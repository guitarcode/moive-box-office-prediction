{
 "cells": [
  {
   "cell_type": "code",
   "execution_count": 7,
   "id": "ba609cb0",
   "metadata": {},
   "outputs": [
    {
     "name": "stdout",
     "output_type": "stream",
     "text": [
      "^C\n"
     ]
    }
   ],
   "source": [
    "!pip uninstall sqlalchemy\n"
   ]
  },
  {
   "cell_type": "code",
   "execution_count": 8,
   "id": "2dda190f",
   "metadata": {},
   "outputs": [
    {
     "name": "stdout",
     "output_type": "stream",
     "text": [
      "Requirement already satisfied: sqlalchemy==1.3.24 in c:\\users\\home\\appdata\\local\\programs\\python\\python39\\lib\\site-packages (1.3.24)\n"
     ]
    },
    {
     "name": "stderr",
     "output_type": "stream",
     "text": [
      "WARNING: You are using pip version 21.1.1; however, version 23.1.2 is available.\n",
      "You should consider upgrading via the 'c:\\users\\home\\appdata\\local\\programs\\python\\python39\\python.exe -m pip install --upgrade pip' command.\n"
     ]
    }
   ],
   "source": [
    "!pip install sqlalchemy==1.3.24"
   ]
  },
  {
   "cell_type": "code",
   "execution_count": 16,
   "id": "7b456bf6",
   "metadata": {},
   "outputs": [],
   "source": [
    "from sqlalchemy import create_engine,text\n",
    "import pandas as pd\n"
   ]
  },
  {
   "cell_type": "code",
   "execution_count": 22,
   "id": "13b1c681",
   "metadata": {},
   "outputs": [],
   "source": [
    "#데이터베이스 연결\n",
    "# 데이터베이스 연결 설정\n",
    "host = 'localhost'\n",
    "database = 'big_data_movie'\n",
    "user = 'root'\n",
    "password = '5041'\n",
    "port = '3306'\n",
    "engine = create_engine(f'mysql+pymysql://{user}:{password}@{host}:{port}/{database}')\n"
   ]
  },
  {
   "cell_type": "code",
   "execution_count": 23,
   "id": "4a0a9796",
   "metadata": {
    "scrolled": true
   },
   "outputs": [],
   "source": [
    "actquery = 'SELECT * FROM actors'\n",
    "movquery = 'SELECT * FROM movies'\n",
    "\n",
    "# actor 테이블 가져오기\n",
    "actors_df = pd.read_sql_query(sql=text(actquery), con=engine)\n",
    "\n",
    "\n",
    "# movie 테이블 가져오기\n",
    "movies_df = pd.read_sql_query(sql=text(movquery), con=engine)"
   ]
  },
  {
   "cell_type": "code",
   "execution_count": 25,
   "id": "95c54d8c",
   "metadata": {},
   "outputs": [
    {
     "name": "stdout",
     "output_type": "stream",
     "text": [
      "          id  popularity                 name\n",
      "0        976     140.632        Jason Statham\n",
      "1     117642      88.524          Jason Momoa\n",
      "2      64295      80.879        Alan Ritchson\n",
      "3      12835      71.540           Vin Diesel\n",
      "4       6885      57.061      Charlize Theron\n",
      "..       ...         ...                  ...\n",
      "703  4041892       0.600  Edward Harper-Jones\n",
      "704  1347129       0.600        Tom Bonington\n",
      "705  4041893       0.600        Laila Barwick\n",
      "706   127015       0.600        Gennaro Diana\n",
      "707  3673435       0.600        Derek Carroll\n",
      "\n",
      "[708 rows x 3 columns]\n"
     ]
    }
   ],
   "source": [
    "print(actors_df)\n"
   ]
  },
  {
   "cell_type": "code",
   "execution_count": 26,
   "id": "78d7422f",
   "metadata": {},
   "outputs": [
    {
     "name": "stdout",
     "output_type": "stream",
     "text": [
      "         id                       original_title                  title  \\\n",
      "0    385687                               Fast X      분노의 질주: 라이드 오어 다이   \n",
      "1    603692                 John Wick: Chapter 4                  존 윅 4   \n",
      "2    502356          The Super Mario Bros. Movie            슈퍼 마리오 브라더스   \n",
      "3    569094  Spider-Man: Across the Spider-Verse     스파이더맨: 어크로스 더 유니버스   \n",
      "4    667538     Transformers: Rise of the Beasts         트랜스포머: 비스트의 서막   \n",
      "5    536437                             Hypnotic                    힙노틱   \n",
      "6    890771                      The Black Demon                  블랙 데몬   \n",
      "7    447277                   The Little Mermaid                   인어공주   \n",
      "8     76600             Avatar: The Way of Water              아바타: 물의 길   \n",
      "9    640146    Ant-Man and the Wasp: Quantumania        앤트맨과 와스프: 퀀텀매니아   \n",
      "10   447365       Guardians of the Galaxy Vol. 3  가디언즈 오브 갤럭시: Volume 3   \n",
      "11   713704                       Evil Dead Rise              이블 데드 라이즈   \n",
      "12  1018494                    Operation Seawolf                작전명 씨울프   \n",
      "13   840326                                 Sisu                     시수   \n",
      "14   879444       Accident Man: Hitman's Holiday        액시던트 맨: 히트맨의 휴가   \n",
      "15   324857    Spider-Man: Into the Spider-Verse          스파이더맨: 뉴 유니버스   \n",
      "16  1073140                 The Three Musketeers                    삼총사   \n",
      "17  1107872                          Dzień Matki                 어머니 니나   \n",
      "18  1098110                         Blood & Gold               블러드 앤 골드   \n",
      "19   758323                  The Pope's Exorcist           엑소시스트: 더 바티칸   \n",
      "\n",
      "   release_date  Action  Crime  Thriller  Adventure  Animation  Comedy  ...  \\\n",
      "0    2023-05-17       1      1         1          0          0       0  ...   \n",
      "1    2023-03-22       1      1         1          0          0       0  ...   \n",
      "2    2023-04-05       0      0         0          1          1       1  ...   \n",
      "3    2023-05-31       1      0         0          1          1       0  ...   \n",
      "4    2023-06-06       1      0         0          1          0       0  ...   \n",
      "5    2023-05-11       0      0         1          0          0       0  ...   \n",
      "6    2023-04-26       0      0         1          0          0       0  ...   \n",
      "7    2023-05-18       0      0         0          1          0       0  ...   \n",
      "8    2022-12-14       1      0         0          1          0       0  ...   \n",
      "9    2023-02-15       1      0         0          1          0       0  ...   \n",
      "10   2023-05-03       1      0         0          1          0       0  ...   \n",
      "11   2023-04-12       0      0         1          0          0       0  ...   \n",
      "12   2022-10-07       1      0         1          1          0       0  ...   \n",
      "13   2023-01-27       1      0         0          0          0       0  ...   \n",
      "14   2022-10-14       1      1         0          0          0       1  ...   \n",
      "15   2018-12-06       1      0         0          1          1       0  ...   \n",
      "16   2023-03-23       1      0         0          1          0       0  ...   \n",
      "17   2023-05-24       1      0         1          0          0       0  ...   \n",
      "18   2023-04-21       1      0         0          0          0       0  ...   \n",
      "19   2023-04-05       0      0         1          0          0       0  ...   \n",
      "\n",
      "       revenue                                           overview  actor_id1  \\\n",
      "0    652000000  돔과 그의 패밀리 앞에 나타난 운명의 적 단테. 과거의 그림자는 돔의 모든 것을 파...        976   \n",
      "1    431769198  죽을 위기에서 살아난 존 윅은 최고 회의를 쓰러트릴 방법을 찾아낸다. 비로소 완전한...     137905   \n",
      "2   1308766975  따단-딴-따단-딴 ♫ 전 세계를 열광시킬 올 타임 슈퍼 어드벤처의 등장! 뉴욕의 평...    1397778   \n",
      "3    313522201  여러 성장통을 겪으며 새로운 스파이더맨이 된 ‘마일스 모랄레스’. 그 앞에 다른 평...     130640   \n",
      "4     79409120  전 우주의 행성을 집어삼키는 절대자, ‘유니크론’의 부하 ‘스커지’는 ‘테러콘’들을...       1620   \n",
      "5            0  과거 공원에 놀러갔다가 잠시 한눈을 판 사이에 어린 딸을 잃어버린 대니 루크 형사는...        880   \n",
      "6            0  석유업자 폴 스터지스(조쉬 루카스)가 최고의 굴착기가 있는 바이아 네그라로 가족을 ...       6164   \n",
      "7    414000000  아틀란티카 바다의 왕 트라이튼의 사랑스러운 막내딸인 인어 에리얼은 늘 인간들이 사는...    1735828   \n",
      "8   2320794231  판도라 행성에서 제이크 설리와 네이티리가 이룬 가족이 겪게 되는 무자비한 위협과 살...      65731   \n",
      "9    475766228  슈퍼히어로 파트너인 스캇 랭과 호프 반 다인, 호프의 부모 재닛 반 다인과 행크 핌...        887   \n",
      "10   805801000  가모라를 잃고 슬픔에 빠져 있던 피터 퀼이 위기에 처한 은하계와 동료를 지키기 위해...      12835   \n",
      "11   141512122  오랜만에 집에 온 이모와 함께 먹을 피자를 사러갔다 돌아오는 길에 지진을 경험한 삼...    1186659   \n",
      "12       23000  2차 세계대전 마지막 날 독일은 남은 무기로 미국과 미군을 무찔러 최후의 승리 쟁취...      16644   \n",
      "13    10568631  라플란드의 황야 깊은 곳에서 금을 찾던 아타미 코피는 나치 순찰대를 우연히 만나게 ...    1448024   \n",
      "14           0  불행한 사고처럼 보이게 암살 미션을 수행하는 히트맨 `마이크 팰런`이 휴양지 몰타에...      56614   \n",
      "15   375464627  평범한 10대 마일스 모랄레스는 우연히 방사능 거미에 물려 스파이더맨 능력을 가지게...       2963   \n",
      "16           0                                                          2467   \n",
      "17           0  자신의 존재조차 모르는 아들이 납치됐다는 소식을 들은 전직 특수 요원 니나. 아들을...    2558522   \n",
      "18           0  제2차 세계 대전의 막바지에 다다른 시점. 어떻게든 집으로 돌아가고 싶은 독일 탈영...    1962994   \n",
      "19    70204828  바티칸이 인정한 공식 수석 엑소시스트이자 최고의 구마사제 '가브리엘 아모르트’ 신부...        934   \n",
      "\n",
      "    actor_id2  actor_id3  Documentary  History  Music  TV Movie  Western  \n",
      "0      117642      64295          0.0      0.0    0.0       0.0      0.0  \n",
      "1        6384       6972          0.0      0.0    0.0       0.0      0.0  \n",
      "2       73457      70851          0.0      0.0    0.0       0.0      0.0  \n",
      "3       25072       2219          0.0      0.0    0.0       0.0      0.0  \n",
      "4        2372      22970          0.0      0.0    0.0       0.0      0.0  \n",
      "5         886       8602          0.0      0.0    0.0       0.0      0.0  \n",
      "6     1568025     955954          0.0      0.0    0.0       0.0      0.0  \n",
      "7     1625558       3810          0.0      0.0    0.0       0.0      0.0  \n",
      "8        8691    1729393          0.0      0.0    0.0       0.0      0.0  \n",
      "9       19034     221192          0.0      0.0    0.0       0.0      0.0  \n",
      "10      73457    1427948          0.0      0.0    0.0       0.0      0.0  \n",
      "11     220620     144080          0.0      0.0    0.0       0.0      0.0  \n",
      "12      81685    1161712          0.0      0.0    0.0       0.0      0.0  \n",
      "13     148012    2329587          0.0      0.0    0.0       0.0      0.0  \n",
      "14      78110    1070721          0.0      0.0    0.0       0.0      0.0  \n",
      "15     130640      25072          0.0      0.0    0.0       0.0      0.0  \n",
      "16    1233856    3294504          0.0      0.0    0.0       0.0      0.0  \n",
      "17     105562    1254517          0.0      0.0    0.0       0.0      0.0  \n",
      "18    2473647      73926          0.0      0.0    0.0       0.0      0.0  \n",
      "19     202032    2850009          0.0      0.0    0.0       0.0      0.0  \n",
      "\n",
      "[20 rows x 29 columns]\n"
     ]
    }
   ],
   "source": [
    "print(movies_df)"
   ]
  },
  {
   "cell_type": "code",
   "execution_count": null,
   "id": "7145cd32",
   "metadata": {},
   "outputs": [],
   "source": []
  },
  {
   "cell_type": "code",
   "execution_count": null,
   "id": "f9ed3f21",
   "metadata": {},
   "outputs": [],
   "source": []
  },
  {
   "cell_type": "code",
   "execution_count": null,
   "id": "5babc70a",
   "metadata": {},
   "outputs": [],
   "source": []
  },
  {
   "cell_type": "code",
   "execution_count": null,
   "id": "45d1e43e",
   "metadata": {},
   "outputs": [],
   "source": []
  },
  {
   "cell_type": "code",
   "execution_count": null,
   "id": "e3ae7193",
   "metadata": {},
   "outputs": [],
   "source": []
  }
 ],
 "metadata": {
  "kernelspec": {
   "display_name": "Python 3 (ipykernel)",
   "language": "python",
   "name": "python3"
  },
  "language_info": {
   "codemirror_mode": {
    "name": "ipython",
    "version": 3
   },
   "file_extension": ".py",
   "mimetype": "text/x-python",
   "name": "python",
   "nbconvert_exporter": "python",
   "pygments_lexer": "ipython3",
   "version": "3.9.5"
  }
 },
 "nbformat": 4,
 "nbformat_minor": 5
}
