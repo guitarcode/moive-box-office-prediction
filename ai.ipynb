{
 "cells": [
  {
   "cell_type": "code",
   "execution_count": 36,
   "outputs": [
    {
     "name": "stdout",
     "output_type": "stream",
     "text": [
      "Requirement already satisfied: requests in /opt/homebrew/lib/python3.11/site-packages (2.31.0)\r\n",
      "Requirement already satisfied: charset-normalizer<4,>=2 in /opt/homebrew/lib/python3.11/site-packages (from requests) (3.1.0)\r\n",
      "Requirement already satisfied: idna<4,>=2.5 in /opt/homebrew/lib/python3.11/site-packages (from requests) (3.4)\r\n",
      "Requirement already satisfied: urllib3<3,>=1.21.1 in /opt/homebrew/lib/python3.11/site-packages (from requests) (1.26.6)\r\n",
      "Requirement already satisfied: certifi>=2017.4.17 in /opt/homebrew/lib/python3.11/site-packages (from requests) (2023.5.7)\r\n",
      "Requirement already satisfied: pandas in /opt/homebrew/lib/python3.11/site-packages (2.0.2)\r\n",
      "Requirement already satisfied: python-dateutil>=2.8.2 in /opt/homebrew/lib/python3.11/site-packages (from pandas) (2.8.2)\r\n",
      "Requirement already satisfied: pytz>=2020.1 in /opt/homebrew/lib/python3.11/site-packages (from pandas) (2023.3)\r\n",
      "Requirement already satisfied: tzdata>=2022.1 in /opt/homebrew/lib/python3.11/site-packages (from pandas) (2023.3)\r\n",
      "Requirement already satisfied: numpy>=1.21.0 in /opt/homebrew/lib/python3.11/site-packages (from pandas) (1.24.3)\r\n",
      "Requirement already satisfied: six>=1.5 in /opt/homebrew/lib/python3.11/site-packages (from python-dateutil>=2.8.2->pandas) (1.16.0)\r\n",
      "Requirement already satisfied: numpy in /opt/homebrew/lib/python3.11/site-packages (1.24.3)\r\n",
      "Requirement already satisfied: sqlalchemy==1.4.16 in /opt/homebrew/lib/python3.11/site-packages (1.4.16)\r\n",
      "Requirement already satisfied: greenlet!=0.4.17 in /opt/homebrew/lib/python3.11/site-packages (from sqlalchemy==1.4.16) (2.0.2)\r\n",
      "Requirement already satisfied: pymysql in /opt/homebrew/lib/python3.11/site-packages (1.0.3)\r\n",
      "Requirement already satisfied: scikit-learn in /opt/homebrew/lib/python3.11/site-packages (1.2.2)\r\n",
      "Requirement already satisfied: numpy>=1.17.3 in /opt/homebrew/lib/python3.11/site-packages (from scikit-learn) (1.24.3)\r\n",
      "Requirement already satisfied: scipy>=1.3.2 in /opt/homebrew/lib/python3.11/site-packages (from scikit-learn) (1.10.1)\r\n",
      "Requirement already satisfied: joblib>=1.1.1 in /opt/homebrew/lib/python3.11/site-packages (from scikit-learn) (1.2.0)\r\n",
      "Requirement already satisfied: threadpoolctl>=2.0.0 in /opt/homebrew/lib/python3.11/site-packages (from scikit-learn) (3.1.0)\r\n",
      "Collecting matplotlib\r\n",
      "  Using cached matplotlib-3.7.1-cp311-cp311-macosx_11_0_arm64.whl (7.3 MB)\r\n",
      "Collecting contourpy>=1.0.1 (from matplotlib)\r\n",
      "  Downloading contourpy-1.1.0-cp311-cp311-macosx_11_0_arm64.whl (229 kB)\r\n",
      "\u001B[2K     \u001B[90m━━━━━━━━━━━━━━━━━━━━━━━━━━━━━━━━━━━━━━━\u001B[0m \u001B[32m229.3/229.3 kB\u001B[0m \u001B[31m3.3 MB/s\u001B[0m eta \u001B[36m0:00:00\u001B[0ma \u001B[36m0:00:01\u001B[0m\r\n",
      "\u001B[?25hCollecting cycler>=0.10 (from matplotlib)\r\n",
      "  Downloading cycler-0.11.0-py3-none-any.whl (6.4 kB)\r\n",
      "Collecting fonttools>=4.22.0 (from matplotlib)\r\n",
      "  Downloading fonttools-4.40.0-cp311-cp311-macosx_10_9_universal2.whl (2.5 MB)\r\n",
      "\u001B[2K     \u001B[90m━━━━━━━━━━━━━━━━━━━━━━━━━━━━━━━━━━━━━━━━\u001B[0m \u001B[32m2.5/2.5 MB\u001B[0m \u001B[31m3.2 MB/s\u001B[0m eta \u001B[36m0:00:00\u001B[0m00:01\u001B[0m00:01\u001B[0m\r\n",
      "\u001B[?25hCollecting kiwisolver>=1.0.1 (from matplotlib)\r\n",
      "  Downloading kiwisolver-1.4.4-cp311-cp311-macosx_11_0_arm64.whl (63 kB)\r\n",
      "\u001B[2K     \u001B[90m━━━━━━━━━━━━━━━━━━━━━━━━━━━━━━━━━━━━━━━━\u001B[0m \u001B[32m63.1/63.1 kB\u001B[0m \u001B[31m3.6 MB/s\u001B[0m eta \u001B[36m0:00:00\u001B[0m\r\n",
      "\u001B[?25hRequirement already satisfied: numpy>=1.20 in /opt/homebrew/lib/python3.11/site-packages (from matplotlib) (1.24.3)\r\n",
      "Requirement already satisfied: packaging>=20.0 in /opt/homebrew/lib/python3.11/site-packages (from matplotlib) (23.1)\r\n",
      "Collecting pillow>=6.2.0 (from matplotlib)\r\n",
      "  Using cached Pillow-9.5.0-cp311-cp311-macosx_11_0_arm64.whl (3.1 MB)\r\n",
      "Collecting pyparsing>=2.3.1 (from matplotlib)\r\n",
      "  Downloading pyparsing-3.0.9-py3-none-any.whl (98 kB)\r\n",
      "\u001B[2K     \u001B[90m━━━━━━━━━━━━━━━━━━━━━━━━━━━━━━━━━━━━━━━━\u001B[0m \u001B[32m98.3/98.3 kB\u001B[0m \u001B[31m2.0 MB/s\u001B[0m eta \u001B[36m0:00:00\u001B[0ma \u001B[36m0:00:01\u001B[0m\r\n",
      "\u001B[?25hRequirement already satisfied: python-dateutil>=2.7 in /opt/homebrew/lib/python3.11/site-packages (from matplotlib) (2.8.2)\r\n",
      "Requirement already satisfied: six>=1.5 in /opt/homebrew/lib/python3.11/site-packages (from python-dateutil>=2.7->matplotlib) (1.16.0)\r\n",
      "Installing collected packages: pyparsing, pillow, kiwisolver, fonttools, cycler, contourpy, matplotlib\r\n",
      "Successfully installed contourpy-1.1.0 cycler-0.11.0 fonttools-4.40.0 kiwisolver-1.4.4 matplotlib-3.7.1 pillow-9.5.0 pyparsing-3.0.9\r\n",
      "Package                  Version\r\n",
      "------------------------ ---------\r\n",
      "anyio                    3.7.0\r\n",
      "appnope                  0.1.3\r\n",
      "argon2-cffi              21.3.0\r\n",
      "argon2-cffi-bindings     21.2.0\r\n",
      "arrow                    1.2.3\r\n",
      "asttokens                2.2.1\r\n",
      "attrs                    23.1.0\r\n",
      "backcall                 0.2.0\r\n",
      "beautifulsoup4           4.12.2\r\n",
      "bleach                   6.0.0\r\n",
      "certifi                  2023.5.7\r\n",
      "cffi                     1.15.1\r\n",
      "charset-normalizer       3.1.0\r\n",
      "comm                     0.1.3\r\n",
      "contourpy                1.1.0\r\n",
      "cycler                   0.11.0\r\n",
      "debugpy                  1.6.7\r\n",
      "decorator                5.1.1\r\n",
      "defusedxml               0.7.1\r\n",
      "docutils                 0.20.1\r\n",
      "executing                1.2.0\r\n",
      "fastjsonschema           2.17.1\r\n",
      "fonttools                4.40.0\r\n",
      "fqdn                     1.5.1\r\n",
      "greenlet                 2.0.2\r\n",
      "idna                     3.4\r\n",
      "ipykernel                6.23.1\r\n",
      "ipython                  8.13.2\r\n",
      "ipython-genutils         0.2.0\r\n",
      "ipywidgets               8.0.6\r\n",
      "isoduration              20.11.0\r\n",
      "jedi                     0.18.2\r\n",
      "Jinja2                   3.1.2\r\n",
      "joblib                   1.2.0\r\n",
      "jsonpointer              2.3\r\n",
      "jsonschema               4.17.3\r\n",
      "jupyter                  1.0.0\r\n",
      "jupyter_client           8.2.0\r\n",
      "jupyter-console          6.6.3\r\n",
      "jupyter_core             5.3.0\r\n",
      "jupyter-events           0.6.3\r\n",
      "jupyter_server           2.6.0\r\n",
      "jupyter_server_terminals 0.4.4\r\n",
      "jupyterlab-pygments      0.2.2\r\n",
      "jupyterlab-widgets       3.0.7\r\n",
      "kiwisolver               1.4.4\r\n",
      "MarkupSafe               2.1.2\r\n",
      "matplotlib               3.7.1\r\n",
      "matplotlib-inline        0.1.6\r\n",
      "mistune                  2.0.5\r\n",
      "mysql                    0.0.3\r\n",
      "mysqlclient              2.1.1\r\n",
      "nbclassic                1.0.0\r\n",
      "nbclient                 0.8.0\r\n",
      "nbconvert                7.4.0\r\n",
      "nbformat                 5.8.0\r\n",
      "nest-asyncio             1.5.6\r\n",
      "notebook                 6.5.4\r\n",
      "notebook_shim            0.2.3\r\n",
      "numpy                    1.24.3\r\n",
      "overrides                7.3.1\r\n",
      "packaging                23.1\r\n",
      "pandas                   2.0.2\r\n",
      "pandocfilters            1.5.0\r\n",
      "parso                    0.8.3\r\n",
      "pexpect                  4.8.0\r\n",
      "pickleshare              0.7.5\r\n",
      "Pillow                   9.5.0\r\n",
      "pip                      23.1.2\r\n",
      "platformdirs             3.5.1\r\n",
      "prometheus-client        0.17.0\r\n",
      "prompt-toolkit           3.0.38\r\n",
      "protobuf                 4.21.12\r\n",
      "psutil                   5.9.5\r\n",
      "ptyprocess               0.7.0\r\n",
      "pure-eval                0.2.2\r\n",
      "pycparser                2.21\r\n",
      "Pygments                 2.15.1\r\n",
      "PyMySQL                  1.0.3\r\n",
      "pyparsing                3.0.9\r\n",
      "pyrsistent               0.19.3\r\n",
      "python-dateutil          2.8.2\r\n",
      "python-json-logger       2.0.7\r\n",
      "pytz                     2023.3\r\n",
      "PyYAML                   6.0\r\n",
      "pyzmq                    25.1.0\r\n",
      "qtconsole                5.4.3\r\n",
      "QtPy                     2.3.1\r\n",
      "requests                 2.31.0\r\n",
      "rfc3339-validator        0.1.4\r\n",
      "rfc3986-validator        0.1.1\r\n",
      "scikit-learn             1.2.2\r\n",
      "scipy                    1.10.1\r\n",
      "Send2Trash               1.8.2\r\n",
      "setuptools               67.6.1\r\n",
      "six                      1.16.0\r\n",
      "sklearn                  0.0.post5\r\n",
      "sniffio                  1.3.0\r\n",
      "soupsieve                2.4.1\r\n",
      "SQLAlchemy               1.4.16\r\n",
      "stack-data               0.6.2\r\n",
      "terminado                0.17.1\r\n",
      "threadpoolctl            3.1.0\r\n",
      "tinycss2                 1.2.1\r\n",
      "tornado                  6.3.2\r\n",
      "traitlets                5.9.0\r\n",
      "typing_extensions        4.6.3\r\n",
      "tzdata                   2023.3\r\n",
      "uri-template             1.2.0\r\n",
      "urllib3                  1.26.6\r\n",
      "wcwidth                  0.2.6\r\n",
      "webcolors                1.13\r\n",
      "webencodings             0.5.1\r\n",
      "websocket-client         1.5.2\r\n",
      "wheel                    0.40.0\r\n",
      "widgetsnbextension       4.0.7\r\n"
     ]
    }
   ],
   "source": [
    "!pip install requests\n",
    "!pip install pandas\n",
    "!pip install numpy\n",
    "!pip install sqlalchemy==1.4.16\n",
    "!pip install pymysql\n",
    "!pip install scikit-learn\n",
    "!pip install matplotlib\n",
    "!pip list"
   ],
   "metadata": {
    "collapsed": false,
    "pycharm": {
     "name": "#%%\n"
    }
   }
  },
  {
   "cell_type": "code",
   "execution_count": 9,
   "outputs": [
    {
     "name": "stdout",
     "output_type": "stream",
     "text": [
      "get_popular_movie page: 501\n"
     ]
    },
    {
     "ename": "KeyError",
     "evalue": "'results'",
     "output_type": "error",
     "traceback": [
      "\u001B[0;31m---------------------------------------------------------------------------\u001B[0m",
      "\u001B[0;31mKeyError\u001B[0m                                  Traceback (most recent call last)",
      "Cell \u001B[0;32mIn[9], line 4\u001B[0m\n\u001B[1;32m      1\u001B[0m \u001B[38;5;28;01mfrom\u001B[39;00m \u001B[38;5;21;01mtmdbapi\u001B[39;00m \u001B[38;5;28;01mimport\u001B[39;00m Movie, MovieDB\n\u001B[1;32m      3\u001B[0m movie \u001B[38;5;241m=\u001B[39m Movie()\n\u001B[0;32m----> 4\u001B[0m \u001B[43mmovie\u001B[49m\u001B[38;5;241;43m.\u001B[39;49m\u001B[43mmake_movie_data_and_save_db\u001B[49m\u001B[43m(\u001B[49m\u001B[38;5;241;43m501\u001B[39;49m\u001B[43m,\u001B[49m\u001B[38;5;241;43m600\u001B[39;49m\u001B[43m)\u001B[49m\n",
      "File \u001B[0;32m~/workspace/univ-lecture/bigdata/tmdbapi.py:182\u001B[0m, in \u001B[0;36mMovie.make_movie_data_and_save_db\u001B[0;34m(self, start_idx, end_idx)\u001B[0m\n\u001B[1;32m    181\u001B[0m \u001B[38;5;28;01mdef\u001B[39;00m \u001B[38;5;21mmake_movie_data_and_save_db\u001B[39m(\u001B[38;5;28mself\u001B[39m, start_idx, end_idx):\n\u001B[0;32m--> 182\u001B[0m     movie_df \u001B[38;5;241m=\u001B[39m \u001B[38;5;28;43mself\u001B[39;49m\u001B[38;5;241;43m.\u001B[39;49m\u001B[43m__get_popular_movie\u001B[49m\u001B[43m(\u001B[49m\u001B[43mstart_idx\u001B[49m\u001B[43m,\u001B[49m\u001B[43m \u001B[49m\u001B[43mend_idx\u001B[49m\u001B[43m)\u001B[49m\n\u001B[1;32m    183\u001B[0m     \u001B[38;5;28mself\u001B[39m\u001B[38;5;241m.\u001B[39m__get_movie_detail(movie_df)\n\u001B[1;32m    184\u001B[0m     actor_df \u001B[38;5;241m=\u001B[39m \u001B[38;5;28mself\u001B[39m\u001B[38;5;241m.\u001B[39m__get_movie_credits(movie_df)\n",
      "File \u001B[0;32m~/workspace/univ-lecture/bigdata/tmdbapi.py:81\u001B[0m, in \u001B[0;36mMovie.__get_popular_movie\u001B[0;34m(self, start_idx, end_idx)\u001B[0m\n\u001B[1;32m     78\u001B[0m \u001B[38;5;28mprint\u001B[39m(\u001B[38;5;124mf\u001B[39m\u001B[38;5;124m\"\u001B[39m\u001B[38;5;124mget_popular_movie page: \u001B[39m\u001B[38;5;132;01m{\u001B[39;00mpage\u001B[38;5;132;01m}\u001B[39;00m\u001B[38;5;124m\"\u001B[39m)\n\u001B[1;32m     79\u001B[0m time\u001B[38;5;241m.\u001B[39msleep(\u001B[38;5;241m0.2\u001B[39m)\n\u001B[0;32m---> 81\u001B[0m \u001B[38;5;28;01mfor\u001B[39;00m movie \u001B[38;5;129;01min\u001B[39;00m \u001B[43mjson_response\u001B[49m\u001B[43m[\u001B[49m\u001B[38;5;124;43m'\u001B[39;49m\u001B[38;5;124;43mresults\u001B[39;49m\u001B[38;5;124;43m'\u001B[39;49m\u001B[43m]\u001B[49m:\n\u001B[1;32m     82\u001B[0m     \u001B[38;5;28;01mtry\u001B[39;00m:\n\u001B[1;32m     83\u001B[0m         \u001B[38;5;66;03m# 개봉연도가 2010년 이후인 영화만 저장\u001B[39;00m\n\u001B[1;32m     84\u001B[0m         \u001B[38;5;28;01mif\u001B[39;00m movie[\u001B[38;5;124m'\u001B[39m\u001B[38;5;124mrelease_date\u001B[39m\u001B[38;5;124m'\u001B[39m][:\u001B[38;5;241m4\u001B[39m] \u001B[38;5;241m>\u001B[39m\u001B[38;5;241m=\u001B[39m \u001B[38;5;124m'\u001B[39m\u001B[38;5;124m2010\u001B[39m\u001B[38;5;124m'\u001B[39m:\n",
      "\u001B[0;31mKeyError\u001B[0m: 'results'"
     ]
    }
   ],
   "source": [
    "from tmdbapi import Movie, MovieDB\n",
    "\n",
    "movie = Movie()\n",
    "movie.make_movie_data_and_save_db(501,600)"
   ],
   "metadata": {
    "collapsed": false,
    "pycharm": {
     "name": "#%%\n"
    }
   }
  },
  {
   "cell_type": "code",
   "execution_count": 1,
   "outputs": [
    {
     "ename": "NameError",
     "evalue": "name 'Movie' is not defined",
     "output_type": "error",
     "traceback": [
      "\u001B[0;31m---------------------------------------------------------------------------\u001B[0m",
      "\u001B[0;31mNameError\u001B[0m                                 Traceback (most recent call last)",
      "Cell \u001B[0;32mIn[1], line 1\u001B[0m\n\u001B[0;32m----> 1\u001B[0m movie \u001B[38;5;241m=\u001B[39m \u001B[43mMovie\u001B[49m()\n\u001B[1;32m      3\u001B[0m movie\u001B[38;5;241m.\u001B[39mmake_movie_data_and_save_db(\u001B[38;5;241m101\u001B[39m, \u001B[38;5;241m200\u001B[39m)\n",
      "\u001B[0;31mNameError\u001B[0m: name 'Movie' is not defined"
     ]
    }
   ],
   "source": [
    "movie = Movie()\n",
    "\n",
    "movie.make_movie_data_and_save_db(101, 200)"
   ],
   "metadata": {
    "collapsed": false,
    "pycharm": {
     "name": "#%%\n"
    }
   }
  },
  {
   "cell_type": "code",
   "execution_count": null,
   "outputs": [],
   "source": [
    "movie = Movie()\n",
    "\n",
    "movie.make_movie_data_and_save_db(61, 90)"
   ],
   "metadata": {
    "collapsed": false,
    "pycharm": {
     "name": "#%%\n"
    }
   }
  },
  {
   "cell_type": "code",
   "execution_count": null,
   "outputs": [],
   "source": [
    "movie = Movie()\n",
    "\n",
    "movie.make_movie_data_and_save_db(91, 120)"
   ],
   "metadata": {
    "collapsed": false,
    "pycharm": {
     "name": "#%%\n"
    }
   }
  },
  {
   "cell_type": "code",
   "execution_count": null,
   "outputs": [],
   "source": [
    "movie = Movie()\n",
    "\n",
    "movie.make_movie_data_and_save_db(121, 150)"
   ],
   "metadata": {
    "collapsed": false,
    "pycharm": {
     "name": "#%%\n"
    }
   }
  },
  {
   "cell_type": "code",
   "execution_count": null,
   "outputs": [],
   "source": [
    "movie = Movie()\n",
    "\n",
    "movie.make_movie_data_and_save_db(151, 180)"
   ],
   "metadata": {
    "collapsed": false,
    "pycharm": {
     "name": "#%%\n"
    }
   }
  },
  {
   "cell_type": "code",
   "execution_count": null,
   "outputs": [],
   "source": [
    "movie = Movie()\n",
    "\n",
    "movie.make_movie_data_and_save_db(181, 210)"
   ],
   "metadata": {
    "collapsed": false,
    "pycharm": {
     "name": "#%%\n"
    }
   }
  },
  {
   "cell_type": "code",
   "execution_count": null,
   "outputs": [],
   "source": [
    "movie = Movie()\n",
    "\n",
    "movie.make_movie_data_and_save_db(211, 240)"
   ],
   "metadata": {
    "collapsed": false,
    "pycharm": {
     "name": "#%%\n"
    }
   }
  },
  {
   "cell_type": "code",
   "execution_count": null,
   "outputs": [],
   "source": [
    "movie = Movie()\n",
    "\n",
    "movie.make_movie_data_and_save_db(241, 270)"
   ],
   "metadata": {
    "collapsed": false,
    "pycharm": {
     "name": "#%%\n"
    }
   }
  },
  {
   "cell_type": "code",
   "execution_count": null,
   "outputs": [],
   "source": [
    "movie = Movie()\n",
    "\n",
    "movie.make_movie_data_and_save_db(271, 300)"
   ],
   "metadata": {
    "collapsed": false,
    "pycharm": {
     "name": "#%%\n"
    }
   }
  },
  {
   "cell_type": "code",
   "execution_count": null,
   "outputs": [],
   "source": [
    "movie = Movie()\n",
    "\n",
    "movie.make_movie_data_and_save_db(301, 330)"
   ],
   "metadata": {
    "collapsed": false,
    "pycharm": {
     "name": "#%%\n"
    }
   }
  },
  {
   "cell_type": "code",
   "execution_count": null,
   "outputs": [],
   "source": [
    "movie = Movie()\n",
    "\n",
    "movie.make_movie_data_and_save_db(331, 360)"
   ],
   "metadata": {
    "collapsed": false,
    "pycharm": {
     "name": "#%%\n"
    }
   }
  },
  {
   "cell_type": "code",
   "execution_count": null,
   "outputs": [],
   "source": [
    "movie = Movie()\n",
    "\n",
    "movie.make_movie_data_and_save_db(361, 390)"
   ],
   "metadata": {
    "collapsed": false,
    "pycharm": {
     "name": "#%%\n"
    }
   }
  },
  {
   "cell_type": "code",
   "execution_count": 1,
   "outputs": [],
   "source": [
    "import pandas as pd\n",
    "from tmdbapi import MovieDB\n",
    "from sklearn.model_selection import train_test_split\n",
    "from sklearn.linear_model import LinearRegression\n",
    "from sklearn.metrics import mean_squared_error\n",
    "\n",
    "db_util = MovieDB()\n",
    "\n",
    "movie_df, actor_df = db_util.get_data_from_database()\n",
    "movie_df = movie_df.dropna()\n",
    "\n",
    "movie_df.tail()\n",
    "\n",
    "db_util.close_connection()"
   ],
   "metadata": {
    "collapsed": false,
    "pycharm": {
     "name": "#%%\n"
    }
   }
  },
  {
   "cell_type": "code",
   "execution_count": 15,
   "outputs": [
    {
     "name": "stdout",
     "output_type": "stream",
     "text": [
      "Coefficients: [ 2.08556149e+07 -1.99546948e+07 -3.94829713e+07  1.23766005e+08\n",
      " -5.52506841e+07  6.78536776e+06  1.59534647e+07  8.77659471e+07\n",
      " -5.00472641e+06  3.73301925e+06 -4.00754076e+07 -7.62800751e+06\n",
      "  4.94405208e+07  1.09354821e+05  1.04475421e+06  6.74719205e+06]\n",
      "Intercept: -45530615.66867322\n",
      "Mean squared error: 2.572127430070401e+16\n",
      "[ 5.29842120e+08  1.05248154e+08  8.76048951e+07  7.15123127e+07\n",
      "  4.37919907e+07  6.62051378e+07  2.72164163e+07  2.54550410e+08\n",
      "  1.58420257e+08  1.55775559e+08  8.55989226e+06  2.68904909e+08\n",
      "  2.62644698e+08  3.42159018e+08 -1.84387565e+07  2.52718637e+08\n",
      "  1.38894329e+08  2.51745919e+07  4.54969377e+08  1.40282053e+08\n",
      "  8.31523297e+07  4.46237600e+07  9.13529068e+07  1.16738703e+07\n",
      "  1.78812153e+08  1.73347809e+08  8.03904777e+07  1.37041292e+08\n",
      "  1.02225671e+08  1.49916885e+08  1.60024614e+08  7.54450712e+07\n",
      "  1.39557559e+08  1.02735253e+08  1.55820707e+08  3.26312735e+07\n",
      "  1.08340727e+08 -7.43976535e+06  1.02522912e+08  6.19242680e+07\n",
      "  6.76925866e+07  4.11206112e+07  5.65691021e+07 -6.56352181e+07\n",
      "  1.41216397e+08  1.97298383e+08 -4.91668177e+07  1.05558211e+08\n",
      "  3.28312015e+08  7.36131717e+07  1.73355921e+08  4.03174221e+07\n",
      "  1.00139219e+08  1.21152946e+07  9.43482614e+07 -7.78755414e+07\n",
      "  1.21323882e+08  2.06903465e+08  9.42494489e+07  5.61515284e+06\n",
      " -9.36795606e+06  6.16677613e+07 -1.43648107e+07  1.25896418e+08\n",
      "  4.29529193e+07  2.17115406e+07  2.53253189e+08  4.31064585e+08\n",
      "  1.95784157e+08  9.23108110e+07 -4.27464335e+07  3.78055356e+08\n",
      "  1.92678360e+08 -9.59143716e+07  2.99497579e+07  2.61241584e+08\n",
      "  9.26283258e+07  2.07614138e+08  3.40664042e+07  3.70268575e+07\n",
      " -5.31861094e+07  2.75705905e+07  1.21673643e+08  2.05630042e+08\n",
      "  7.30197983e+07  4.16551959e+07 -8.31452642e+07  5.50782863e+07\n",
      "  1.83234107e+08  1.22255274e+08 -4.64663482e+07  1.79895143e+07\n",
      "  2.89758624e+06  5.28223724e+08  4.04215958e+08  8.64060652e+07\n",
      " -1.04853180e+07  5.09136123e+07  2.31932713e+07  1.31991879e+08\n",
      "  8.01657270e+07  1.58201460e+08 -2.03137757e+05  4.07100329e+08\n",
      "  1.24164669e+08  3.56906896e+07 -6.92887669e+06  3.59944866e+08\n",
      " -6.59884450e+07  1.75254640e+08  6.52428328e+07  3.66543325e+08\n",
      "  1.88114745e+08  9.78667944e+06 -3.65317227e+07  2.00064524e+08\n",
      "  1.55219323e+08  1.23746971e+08 -6.37098497e+07  7.55671252e+07\n",
      " -4.35965179e+07  5.19273715e+07  6.36917638e+07  1.37373181e+08\n",
      "  1.35070058e+07  2.41921041e+08 -5.84241642e+07  7.68181835e+07\n",
      "  4.36074517e+07 -4.87177134e+07  1.15480047e+08  2.77557628e+08\n",
      "  1.75797213e+08 -9.39606711e+06  5.24131788e+08  1.80544109e+08\n",
      "  7.07072426e+07  3.75027424e+07  1.84853318e+08  2.90492722e+08\n",
      "  8.06660792e+07  1.26955085e+08  6.76885681e+07  8.50541391e+07\n",
      " -3.32688243e+07 -2.86875354e+07  8.98455518e+07  1.84472348e+08\n",
      " -2.41917901e+06  1.36865112e+08  4.99061635e+08  1.03307449e+07\n",
      "  3.96238653e+08  1.02971247e+07  1.06451646e+08  2.14380262e+08\n",
      " -4.15232578e+07 -3.91825058e+07  1.42461337e+08  2.13988481e+08\n",
      "  2.87201498e+08 -7.07557000e+07 -4.58763527e+07  1.20883478e+08\n",
      "  2.79420203e+07  2.87907347e+08  1.26000615e+08 -9.64218397e+07\n",
      "  9.85876414e+07 -6.48971095e+07  2.27166358e+07  1.34541531e+08\n",
      "  5.78735635e+07  3.41581334e+07  8.68103282e+07  2.52632094e+07\n",
      " -1.91302535e+07  2.60800907e+07  1.39988033e+08  3.81001460e+07\n",
      "  4.16436349e+08  3.81000152e+08  4.45936912e+08  3.15077138e+07\n",
      "  3.14722691e+08  4.29933799e+07  1.76299342e+08  1.22452240e+08\n",
      "  1.62177848e+07  4.46511957e+08  2.00394510e+08 -5.09568180e+07\n",
      "  7.74645665e+07  2.07228906e+08  2.07254402e+08  8.53787549e+07\n",
      "  4.73970153e+06  6.70031779e+07  3.80989706e+07  5.16427775e+07\n",
      "  4.90464437e+07  1.63767592e+08  9.42497628e+07  1.26586530e+08\n",
      "  7.30288269e+08  1.40622769e+08  1.11096973e+08  3.14744936e+08\n",
      "  1.32732938e+08  1.47135988e+08  2.02865903e+08  1.09865435e+08\n",
      " -4.49808017e+07  1.95683611e+08  3.67764716e+07 -4.69316920e+07\n",
      " -1.47075944e+07  1.41163889e+08 -6.68528565e+07 -1.01645702e+08\n",
      "  1.00315767e+08  6.30697860e+07  1.07281752e+08 -1.20908664e+07\n",
      "  2.03644874e+08  1.29884187e+08  1.88008917e+08  1.37459612e+08\n",
      "  1.06059543e+08  3.98394658e+07  1.61745689e+07  2.53689816e+08\n",
      "  2.97173804e+08  1.61226358e+08  2.34127035e+07 -6.20699223e+07\n",
      "  5.13459741e+08  2.33222566e+08  1.30374595e+08  1.77527861e+08\n",
      "  1.01386835e+08  4.02518680e+07 -2.87481928e+06 -3.55913805e+07\n",
      "  1.83006765e+08  2.25325699e+08  4.33788605e+08  1.00359810e+08\n",
      "  7.23895875e+07  1.40618125e+08  1.62840706e+08  3.06365802e+08\n",
      "  2.75559240e+08  1.07266380e+08 -3.71129853e+07  7.38011670e+07\n",
      "  9.77323818e+07  8.14877829e+06  1.57716859e+08 -5.04640050e+07\n",
      "  4.58702397e+08  7.41708524e+07  2.02013421e+08  1.62398460e+08\n",
      "  6.72591839e+07  4.47527342e+06  8.15726705e+06  1.51187420e+07\n",
      " -5.54453357e+07  2.44328273e+08 -2.97489446e+07  1.22737405e+08\n",
      "  3.60396673e+08  8.91835133e+07  5.96950011e+07  1.66584087e+08\n",
      "  4.96339588e+07 -2.82654588e+07  1.33576081e+08  8.90833357e+07\n",
      " -5.30202689e+07 -2.60174015e+07 -2.90352561e+07  3.46397635e+08\n",
      "  3.83745381e+07 -4.72715048e+07  5.20544726e+08  6.49358872e+07\n",
      "  3.66984412e+08 -1.12419380e+08  4.03954003e+08  9.15559386e+07\n",
      "  1.91873335e+08  6.84735475e+07 -6.69047573e+06  6.74502569e+07\n",
      "  2.66463813e+08 -2.97601592e+07  3.81555817e+08  2.12659747e+08\n",
      "  8.75114894e+07 -1.04916176e+07  5.04399942e+07  1.91044262e+08\n",
      "  6.64386202e+07 -2.35654068e+07  1.69534238e+07  5.97293345e+07\n",
      "  2.58344963e+07  5.06826653e+07  1.28256791e+08  1.55030131e+08\n",
      "  9.19813745e+07  4.89937894e+08 -4.33250952e+07  1.25301098e+06\n",
      "  6.50331369e+07  8.55582681e+07  4.42479152e+07  1.18227199e+08\n",
      "  1.53864774e+08  6.73953603e+07 -9.02140742e+07  4.62634764e+08\n",
      "  1.75022214e+07  3.31597266e+08 -1.37384364e+07  5.94462568e+07\n",
      "  7.35095843e+07  5.46475326e+07  4.21750890e+08  1.86451011e+08\n",
      " -4.40043542e+07  3.12455301e+08  1.25492931e+08  5.25286041e+07\n",
      "  2.04793995e+08 -2.15236013e+07  3.00718483e+07  4.21543112e+08\n",
      "  1.12830139e+08  2.19104095e+08  1.36306187e+08  4.93790333e+07\n",
      "  1.83877749e+07  1.69962366e+08  5.48159687e+08  1.88899181e+07\n",
      "  8.85783649e+07  5.82801865e+07  1.48927490e+08 -5.14016883e+07\n",
      "  2.93861443e+07  1.56028625e+08  1.47698233e+08  7.73034795e+07\n",
      "  2.81624347e+08 -3.17128280e+07  3.20038052e+07  3.08861511e+07\n",
      "  1.33830088e+08 -4.04379073e+06 -1.41786092e+07  3.19576316e+08\n",
      " -1.09814364e+08  2.14842922e+08  7.50500349e+07 -4.79755722e+07\n",
      " -9.49540062e+06  5.21478399e+07  2.94051844e+07  3.90596324e+08\n",
      "  2.78314183e+08  9.89904918e+07  7.69500309e+07  2.56508258e+08\n",
      "  1.85731626e+07  2.65449092e+08  2.24185131e+08  1.07189850e+07\n",
      " -4.43203111e+07  3.79013415e+08  4.51781227e+07  1.55959166e+08\n",
      "  2.72184066e+08 -2.90876513e+06  2.39489733e+08  1.59517325e+08\n",
      "  2.05405306e+08 -1.82983134e+06 -8.15008115e+07  3.42159018e+08\n",
      "  4.03839371e+08 -6.93932924e+06  1.38737827e+08  2.65542356e+08\n",
      "  7.52264653e+07 -4.80567912e+07 -9.45152313e+07  1.47857398e+08\n",
      " -2.75313066e+07  9.78864925e+06  1.85608266e+08  3.93802394e+08\n",
      "  1.58061757e+08  1.17807546e+07  3.28556313e+08  2.96742761e+07\n",
      "  1.64419039e+08  4.08143663e+08  3.46412892e+08  1.75849711e+08\n",
      "  8.97944531e+06  3.25892282e+07  6.80486231e+07  3.25564514e+07\n",
      "  3.77281795e+07  3.86325986e+08  2.78143908e+07  2.54006791e+08\n",
      "  2.67567489e+08  3.64728929e+07 -9.66455044e+06  3.05915206e+08\n",
      "  1.20455351e+08  2.41169287e+07  8.33700155e+07  8.69142911e+07\n",
      "  4.44383421e+07  9.16016343e+07  5.79699696e+08  7.44824599e+07]\n",
      "1297     14708696\n",
      "425       4633668\n",
      "497      59418613\n",
      "1463     37589296\n",
      "589     211952420\n",
      "          ...    \n",
      "22       83080890\n",
      "1949     32517248\n",
      "2548      2133452\n",
      "452     378858340\n",
      "1890      1584759\n",
      "Name: revenue, Length: 432, dtype: int64\n",
      "      Action  Crime  Thriller  Adventure  Comedy  Family  Fantasy  \\\n",
      "0          1      1         1          0       0       0        0   \n",
      "1          1      0         0          1       0       0        0   \n",
      "2          1      0         0          1       0       0        1   \n",
      "3          1      0         0          1       0       0        1   \n",
      "4          0      0         0          0       1       0        0   \n",
      "...      ...    ...       ...        ...     ...     ...      ...   \n",
      "4286       1      0         0          0       0       0        0   \n",
      "4308       0      0         1          0       0       0        0   \n",
      "4326       0      0         0          0       0       0        0   \n",
      "4334       0      0         1          0       0       0        0   \n",
      "4391       0      0         1          0       1       0        0   \n",
      "\n",
      "      Science Fiction  Horror  Romance  Drama  Mystery  War  popularity1  \\\n",
      "0                   0       0        0      0        0    0       41.342   \n",
      "1                   1       0        0      0        0    0       49.445   \n",
      "2                   0       0        0      0        0    0       50.817   \n",
      "3                   0       0        0      0        0    0       44.847   \n",
      "4                   0       0        0      0        0    0       31.696   \n",
      "...               ...     ...      ...    ...      ...  ...          ...   \n",
      "4286                0       0        0      1        0    0       26.589   \n",
      "4308                0       1        0      0        0    0       25.483   \n",
      "4326                0       1        0      1        0    0        8.714   \n",
      "4334                0       0        0      0        1    0       18.804   \n",
      "4391                0       0        0      0        1    0       12.256   \n",
      "\n",
      "      popularity2  popularity3  \n",
      "0          36.546       35.226  \n",
      "1          45.481       43.476  \n",
      "2          35.065       22.181  \n",
      "3          35.409       28.392  \n",
      "4          24.759       20.857  \n",
      "...           ...          ...  \n",
      "4286        9.378        6.321  \n",
      "4308       14.649        8.756  \n",
      "4326        5.778        5.027  \n",
      "4334        8.987        7.708  \n",
      "4391        8.515        6.730  \n",
      "\n",
      "[2158 rows x 16 columns]\n"
     ]
    }
   ],
   "source": [
    "actor_df['id'] = actor_df['id'].astype('str')\n",
    "actor_df['popularity'] = actor_df['popularity'].astype('double')\n",
    "joined_df = pd.merge(movie_df, actor_df.rename(columns={'popularity': 'popularity1'}), left_on='actor_id1', right_on='id', how='left', suffixes=('1','1'))\n",
    "joined_df = pd.merge(joined_df, actor_df.rename(columns={'popularity': 'popularity2'}), left_on='actor_id2', right_on='id', how='left', suffixes=('2','2'))\n",
    "joined_df = pd.merge(joined_df, actor_df.rename(columns={'popularity': 'popularity3'}), left_on='actor_id3', right_on='id', how='left', suffixes=('3','3'))\n",
    "\n",
    "# feature_columns = ['Action', 'Crime', 'Thriller', 'Adventure', 'Animation', 'Comedy',\n",
    "#                    'Family', 'Fantasy', 'Science Fiction', 'Horror', 'Romance',\n",
    "#                    'Drama', 'Mystery', 'War', 'revenue', 'popularity1', 'popularity2',\n",
    "#                    'popularity3']\n",
    "\n",
    "feature_columns = ['Action', 'Crime', 'Thriller', 'Adventure', 'Comedy',\n",
    "                   'Family', 'Fantasy', 'Science Fiction', 'Horror', 'Romance',\n",
    "                   'Drama', 'Mystery', 'War','popularity1', 'popularity2', 'popularity3']\n",
    "\n",
    "joined_df = joined_df.dropna()\n",
    "joined_df = joined_df[joined_df['revenue'] > 100]\n",
    "X = joined_df[feature_columns]\n",
    "y = joined_df['revenue']\n",
    "\n",
    "X_train, X_test, y_train, y_test = train_test_split(X, y, test_size=0.2, random_state=42)\n",
    "\n",
    "regressor = LinearRegression()\n",
    "regressor.fit(X_train, y_train)\n",
    "\n",
    "# Test set으로 예측을 수행합니다.\n",
    "y_pred = regressor.predict(X_test)\n",
    "\n",
    "# 결과를 확인합니다.\n",
    "print('Coefficients:', regressor.coef_)\n",
    "print('Intercept:', regressor.intercept_)\n",
    "\n",
    "print('Mean squared error:', mean_squared_error(y_test, y_pred))\n",
    "# print(joined_df.shape[0])\n",
    "\n",
    "print(y_pred)\n",
    "print(y_test)\n",
    "\n",
    "print(X)"
   ],
   "metadata": {
    "collapsed": false,
    "pycharm": {
     "name": "#%%\n"
    }
   }
  },
  {
   "cell_type": "code",
   "execution_count": 13,
   "outputs": [
    {
     "data": {
      "text/plain": "<Figure size 1000x600 with 1 Axes>",
      "image/png": "[encoded data removed]"
     },
     "metadata": {},
     "output_type": "display_data"
    }
   ],
   "source": [
    "import matplotlib.pyplot as plt\n",
    "\n",
    "# 각 feature의 가중치를 저장합니다.\n",
    "feature_weights = regressor.coef_\n",
    "\n",
    "# 각 feature의 이름을 저장합니다.\n",
    "feature_names = X.columns\n",
    "\n",
    "# 가중치를 시각화합니다.\n",
    "plt.figure(figsize=(10, 6))\n",
    "plt.bar(feature_names, feature_weights)\n",
    "plt.xlabel('Features')\n",
    "plt.ylabel('Weights')\n",
    "plt.title('Feature Weights')\n",
    "plt.xticks(rotation=45)\n",
    "plt.show()"
   ],
   "metadata": {
    "collapsed": false,
    "pycharm": {
     "name": "#%%\n"
    }
   }
  },
  {
   "cell_type": "code",
   "execution_count": 5,
   "outputs": [
    {
     "name": "stdout",
     "output_type": "stream",
     "text": [
      "Coefficients: [ 2.84795758e+07 -2.27073446e+07 -5.33910725e+07  1.17136339e+08\n",
      " -3.72529030e-08 -7.03017678e+07  5.81648226e+06  2.85819646e+07\n",
      "  1.15916693e+08 -7.33827936e+06  1.68027133e+07 -4.67472443e+07\n",
      " -1.93872776e+07  6.13954344e+07  6.38946057e+05  8.42840970e+05\n",
      "  6.52358002e+06]\n",
      "Intercept: -30900141.073306948\n",
      "Mean squared error (Train set): 4.428484922182414e+16\n",
      "Mean squared error (Test set): 4.196612522965776e+16\n"
     ]
    },
    {
     "data": {
      "text/plain": "<Figure size 640x480 with 1 Axes>",
      "image/png": "[encoded data removed]"
     },
     "metadata": {},
     "output_type": "display_data"
    }
   ],
   "source": [
    "from sklearn.metrics import mean_squared_error\n",
    "import matplotlib.pyplot as plt\n",
    "\n",
    "# train set으로 예측을 수행합니다.\n",
    "y_train_pred = regressor.predict(X_train)\n",
    "\n",
    "# train set의 mean_squared_error 값을 계산합니다.\n",
    "train_mse = mean_squared_error(y_train, y_train_pred)\n",
    "\n",
    "# Test set으로 예측을 수행합니다.\n",
    "y_pred = regressor.predict(X_test)\n",
    "\n",
    "# 결과를 확인합니다.\n",
    "print('Coefficients:', regressor.coef_)\n",
    "print('Intercept:', regressor.intercept_)\n",
    "\n",
    "print('Mean squared error (Train set):', train_mse)\n",
    "print('Mean squared error (Test set):', mean_squared_error(y_test, y_pred))\n",
    "\n",
    "# 데이터 분포 시각화\n",
    "plt.scatter(y_test, y_pred)\n",
    "plt.xlabel('Actual Revenue')\n",
    "plt.ylabel('Predicted Revenue')\n",
    "plt.title('Revenue Prediction')\n",
    "plt.show()\n"
   ],
   "metadata": {
    "collapsed": false,
    "pycharm": {
     "name": "#%%\n"
    }
   }
  },
  {
   "cell_type": "code",
   "execution_count": 10,
   "outputs": [
    {
     "name": "stdout",
     "output_type": "stream",
     "text": [
      "Random Forest Mean squared error: 3.650296809101349e+16\n",
      "Gradient Boosting Mean squared error: 3.2336086546155344e+16\n"
     ]
    }
   ],
   "source": [
    "from sklearn.ensemble import RandomForestRegressor, GradientBoostingRegressor\n",
    "\n",
    "# Random Forest\n",
    "rf_regressor = RandomForestRegressor(random_state=42)\n",
    "rf_regressor.fit(X_train, y_train)\n",
    "rf_y_pred = rf_regressor.predict(X_test)\n",
    "rf_mse = mean_squared_error(y_test, rf_y_pred)\n",
    "\n",
    "# Gradient Boosting\n",
    "gb_regressor = GradientBoostingRegressor(random_state=22)\n",
    "gb_regressor.fit(X_train, y_train)\n",
    "gb_y_pred = gb_regressor.predict(X_test)\n",
    "gb_mse = mean_squared_error(y_test, gb_y_pred)\n",
    "\n",
    "print('Random Forest Mean squared error:', rf_mse)\n",
    "print('Gradient Boosting Mean squared error:', gb_mse)"
   ],
   "metadata": {
    "collapsed": false,
    "pycharm": {
     "name": "#%%\n"
    }
   }
  },
  {
   "cell_type": "code",
   "execution_count": null,
   "outputs": [],
   "source": [],
   "metadata": {
    "collapsed": false,
    "pycharm": {
     "name": "#%%\n"
    }
   }
  }
 ],
 "metadata": {
  "kernelspec": {
   "display_name": "Python 3 (ipykernel)",
   "language": "python",
   "name": "python3"
  },
  "language_info": {
   "codemirror_mode": {
    "name": "ipython",
    "version": 3
   },
   "file_extension": ".py",
   "mimetype": "text/x-python",
   "name": "python",
   "nbconvert_exporter": "python",
   "pygments_lexer": "ipython3",
   "version": "3.11.3"
  }
 },
 "nbformat": 4,
 "nbformat_minor": 5
}